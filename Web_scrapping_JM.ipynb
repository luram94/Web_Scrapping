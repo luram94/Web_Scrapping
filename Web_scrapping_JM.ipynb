{
  "nbformat": 4,
  "nbformat_minor": 0,
  "metadata": {
    "colab": {
      "provenance": [],
      "toc_visible": true,
      "authorship_tag": "ABX9TyPZXhxwkA6OhCta/aKvjxtI",
      "include_colab_link": true
    },
    "kernelspec": {
      "name": "python3",
      "display_name": "Python 3"
    },
    "language_info": {
      "name": "python"
    }
  },
  "cells": [
    {
      "cell_type": "markdown",
      "metadata": {
        "id": "view-in-github",
        "colab_type": "text"
      },
      "source": [
        "<a href=\"https://colab.research.google.com/github/luram94/Web_Scrapping/blob/main/Web_scrapping_JM.ipynb\" target=\"_parent\"><img src=\"https://colab.research.google.com/assets/colab-badge.svg\" alt=\"Open In Colab\"/></a>"
      ]
    },
    {
      "cell_type": "code",
      "execution_count": null,
      "metadata": {
        "colab": {
          "base_uri": "https://localhost:8080/"
        },
        "id": "vJwwk__Uasv_",
        "outputId": "7f49943e-0505-4bc0-c687-880d4e6fab98"
      },
      "outputs": [
        {
          "output_type": "stream",
          "name": "stdout",
          "text": [
            "Looking in indexes: https://pypi.org/simple, https://us-python.pkg.dev/colab-wheels/public/simple/\n",
            "Requirement already satisfied: beautifulsoup4 in /usr/local/lib/python3.8/dist-packages (4.6.3)\n",
            "Looking in indexes: https://pypi.org/simple, https://us-python.pkg.dev/colab-wheels/public/simple/\n",
            "Requirement already satisfied: requests in /usr/local/lib/python3.8/dist-packages (2.25.1)\n",
            "Requirement already satisfied: urllib3<1.27,>=1.21.1 in /usr/local/lib/python3.8/dist-packages (from requests) (1.24.3)\n",
            "Requirement already satisfied: certifi>=2017.4.17 in /usr/local/lib/python3.8/dist-packages (from requests) (2022.12.7)\n",
            "Requirement already satisfied: idna<3,>=2.5 in /usr/local/lib/python3.8/dist-packages (from requests) (2.10)\n",
            "Requirement already satisfied: chardet<5,>=3.0.2 in /usr/local/lib/python3.8/dist-packages (from requests) (4.0.0)\n",
            "Looking in indexes: https://pypi.org/simple, https://us-python.pkg.dev/colab-wheels/public/simple/\n",
            "\u001b[31mERROR: Could not find a version that satisfies the requirement csv (from versions: none)\u001b[0m\u001b[31m\n",
            "\u001b[0m\u001b[31mERROR: No matching distribution found for csv\u001b[0m\u001b[31m\n",
            "\u001b[0m"
          ]
        }
      ],
      "source": [
        "!pip install beautifulsoup4\n",
        "!pip install requests\n",
        "!pip install csv"
      ]
    },
    {
      "cell_type": "code",
      "source": [
        "from bs4 import BeautifulSoup\n",
        "import requests\n",
        "import csv\n",
        "from urllib.request import urlopen\n",
        "import pandas as pd\n",
        "import sys\n"
      ],
      "metadata": {
        "id": "tQYlGcQKdQz4"
      },
      "execution_count": null,
      "outputs": []
    },
    {
      "cell_type": "markdown",
      "source": [
        "# EJEMPLO 1"
      ],
      "metadata": {
        "id": "AEZQu0olVuFD"
      }
    },
    {
      "cell_type": "code",
      "source": [
        "page=requests.get('https://parascrapear.com/') #elegimos la web donde scrapear\n",
        "type(page.text)"
      ],
      "metadata": {
        "colab": {
          "base_uri": "https://localhost:8080/"
        },
        "id": "nxXJ-EfHdsrm",
        "outputId": "565ccda7-a2d8-4446-c39a-6aaed2507608"
      },
      "execution_count": null,
      "outputs": [
        {
          "output_type": "execute_result",
          "data": {
            "text/plain": [
              "str"
            ]
          },
          "metadata": {},
          "execution_count": 24
        }
      ]
    },
    {
      "cell_type": "code",
      "source": [
        "soup=BeautifulSoup(page.text,\"html\") # le decimos que coja todo el texto HTML de la web de arriba"
      ],
      "metadata": {
        "id": "hLdxBh8zd2TY"
      },
      "execution_count": null,
      "outputs": []
    },
    {
      "cell_type": "code",
      "source": [
        "blockquote_items=soup.find_all(\"blockquote\") #extraemos todos los bloques de la web\n"
      ],
      "metadata": {
        "colab": {
          "base_uri": "https://localhost:8080/"
        },
        "id": "YLO7bitYeHC1",
        "outputId": "e6c1f101-92b7-41be-c35b-ec948475db68"
      },
      "execution_count": null,
      "outputs": [
        {
          "output_type": "stream",
          "name": "stdout",
          "text": [
            "<blockquote>\n",
            "<p><q>Prefiero equivocarme creyendo en un Dios que no existe, que equivocarme no creyendo en un Dios que existe. Porque si después no hay nada, evidentemente nunca lo sabré, cuando me hunda en la nada eterna; pero si hay algo, si hay Alguien, tendré que dar cuenta de mi actitud de rechazo.</q></p>\n",
            "<p><a class=\"cat\" href=\"frases-de-sociedad\">Sociedad</a></p>\n",
            "<footer><a class=\"author\" href=\"frases-de-blaise-pascal\">Blaise Pascal</a></footer>\n",
            "</blockquote>\n"
          ]
        }
      ]
    },
    {
      "cell_type": "code",
      "source": [
        "autor=blockquote_items[1].find(\"a\")\n",
        "print(autor)\n"
      ],
      "metadata": {
        "colab": {
          "base_uri": "https://localhost:8080/"
        },
        "id": "nq6bJQ_WlQtM",
        "outputId": "6a40e6f5-ca84-4187-e6ee-e9fc0a91ef90"
      },
      "execution_count": null,
      "outputs": [
        {
          "output_type": "stream",
          "name": "stdout",
          "text": [
            "<a class=\"cat\" href=\"frases-de-sociedad\">Sociedad</a>\n"
          ]
        }
      ]
    },
    {
      "cell_type": "code",
      "source": [
        "for blockquote in blockquote_items:\n",
        "  autor=blockquote.find(class_=\"author\").text\n",
        "  categoria=blockquote.find(class_=\"cat\").text\n",
        "  sentencia=blockquote.find(\"q\").text\n",
        "  print([autor,categoria,sentencia])"
      ],
      "metadata": {
        "colab": {
          "base_uri": "https://localhost:8080/"
        },
        "id": "siKowzhEhZ_N",
        "outputId": "7c4438ae-1f06-4dda-8281-898bc06a0b25"
      },
      "execution_count": null,
      "outputs": [
        {
          "output_type": "stream",
          "name": "stdout",
          "text": [
            "['Blaise Pascal', 'Sociedad', 'Prefiero equivocarme creyendo en un Dios que no existe, que equivocarme no creyendo en un Dios que existe. Porque si después no hay nada, evidentemente nunca lo sabré, cuando me hunda en la nada eterna; pero si hay algo, si hay Alguien, tendré que dar cuenta de mi actitud de rechazo.']\n",
            "['Jean Jacques Rousseau', 'Sociedad', 'El hombre ha nacido libre y por doquiera se encuentra sujeto con cadenas.']\n",
            "['Blaise Pascal', 'Naturaleza', 'Nuestra naturaleza está en movimiento. El reposo absoluto es la muerte.']\n",
            "['Mahatma Gandhi', 'Defectos', 'Quisiera sufrir todas las humillaciones, todas las torturas, el ostracismo absoluto y hasta la muerte, para impedir la violencia.']\n",
            "['Gilbert Keith Chesterton', 'Miscelánea', 'La única simplicidad que vale la pena de conservar es la del corazón, la simplicidad que acepta y goza.']\n",
            "['Goethe', 'Pensamiento y razón', 'Las ideas audaces son como piezas de ajedrez. Pueden ser vencidas, pero también pueden iniciar una partida victoriosa.']\n",
            "['Emerson', 'Miscelánea', 'No me dejes caer en el vulgar error de soñar que soy perseguido cada vez que alguien me contradice.']\n",
            "['Friedrich Nietzsche', 'Sociedad', 'Un político divide a las personas en dos grupos: en primer lugar, instrumentos; en segundo, enemigos.']\n",
            "['Platón', 'Sociedad', 'El más importante y principal negocio público es la buena educación de la juventud.']\n",
            "['Jorge Luis Borges', 'Arte', 'La literatura no es otra cosa que un sueño dirigido.']\n",
            "['Emerson', 'Pensamiento y razón', '¿Cuál es la tarea más difícil del mundo? Pensar.']\n",
            "['Aristóteles', 'Sociedad', 'Se piensa que lo justo es lo igual, y así es; pero no para todos, sino para los iguales. Se piensa por el contrario que lo justo es lo desigual, y así es, pero no para todos, sino para los desiguales.']\n",
            "['Baltasar Gracián', 'Miscelánea', 'Saber olvidar, más es dicha que arte.']\n",
            "['Goethe', 'Sentimientos', 'Bueno es tener la alegría en casa y no haber menester de buscarla fuera.']\n",
            "['Aristóteles', 'Sociedad', 'No hace falta un gobierno perfecto; se necesita uno que sea práctico.']\n",
            "['Benjamin Franklin', 'Sociedad', 'Los hombres son criaturas muy raras: la mitad censura lo que practica; la otra mitad practica lo que censura; el resto siempre dice y hace lo que debe.']\n",
            "['Voltaire', 'Sentimientos', 'Conviene siempre esforzarse más en ser interesante que exacto; porque el espectador lo perdona todo menos el sopor.']\n",
            "['George Bernard Shaw', 'Sentimientos', 'El peor pecado hacia nuestros semejantes no es odiarlos, sino tratarlos con indiferencia: esa es la esencia de la inhumanidad.']\n",
            "['José Ortega y Gasset', 'Naturaleza', 'La vida es una serie de colisiones con el futuro; no es una suma de lo que hemos sido, sino de lo que anhelamos ser.']\n",
            "['Victor Hugo', 'Sociedad', 'Dios es la evidencia invisible.']\n"
          ]
        }
      ]
    },
    {
      "cell_type": "code",
      "source": [
        "#f=csv.writer(open(\"/content/sample_data/ejemplo2/frases2.csv\",\"w\"))\n",
        "#f.writerow([\"Atuor\",\"Categoria\",\"Frase\"])"
      ],
      "metadata": {
        "colab": {
          "base_uri": "https://localhost:8080/"
        },
        "id": "SnIhEfccjIz9",
        "outputId": "f6f4b64e-e876-4bdf-8e3e-19fd8642c843"
      },
      "execution_count": null,
      "outputs": [
        {
          "output_type": "execute_result",
          "data": {
            "text/plain": [
              "23"
            ]
          },
          "metadata": {},
          "execution_count": 20
        }
      ]
    },
    {
      "cell_type": "code",
      "source": [
        "with open('frases4.csv', 'w', newline='',encoding='utf-8') as f:\n",
        "    writer = csv.writer(f, delimiter=',')\n",
        "    writer.writerow([\"Autor\", \"Categoria\", \"Frases\"]) #writerrow porque estamos en una dimension. Sino, writerows\n",
        "    for blockquote in blockquote_items:\n",
        "        autor = blockquote.find(class_='author').text\n",
        "        categoria = blockquote.find(class_='cat').text\n",
        "        sentencia = blockquote.find('q').text\n",
        "        writer.writerow([autor, categoria, sentencia])"
      ],
      "metadata": {
        "id": "e9G4bnbzo-35"
      },
      "execution_count": null,
      "outputs": []
    },
    {
      "cell_type": "code",
      "source": [
        "import pandas as pd\n",
        "df = pd.read_csv('frases4.csv')\n",
        "#df.columns = [\"Webinar\", \"Fecha\",\"Frase\"]\n",
        "df.head()"
      ],
      "metadata": {
        "colab": {
          "base_uri": "https://localhost:8080/",
          "height": 206
        },
        "id": "C1l0Uid-mOQc",
        "outputId": "886d12ed-f177-401a-9a53-b9db21a5b36e"
      },
      "execution_count": null,
      "outputs": [
        {
          "output_type": "execute_result",
          "data": {
            "text/plain": [
              "                      Autor   Categoria  \\\n",
              "0             Blaise Pascal    Sociedad   \n",
              "1     Jean Jacques Rousseau    Sociedad   \n",
              "2             Blaise Pascal  Naturaleza   \n",
              "3            Mahatma Gandhi    Defectos   \n",
              "4  Gilbert Keith Chesterton  Miscelánea   \n",
              "\n",
              "                                              Frases  \n",
              "0  Prefiero equivocarme creyendo en un Dios que n...  \n",
              "1  El hombre ha nacido libre y por doquiera se en...  \n",
              "2  Nuestra naturaleza está en movimiento. El repo...  \n",
              "3  Quisiera sufrir todas las humillaciones, todas...  \n",
              "4  La única simplicidad que vale la pena de conse...  "
            ],
            "text/html": [
              "\n",
              "  <div id=\"df-16beda7d-f54f-432a-b1c1-341946f48a05\">\n",
              "    <div class=\"colab-df-container\">\n",
              "      <div>\n",
              "<style scoped>\n",
              "    .dataframe tbody tr th:only-of-type {\n",
              "        vertical-align: middle;\n",
              "    }\n",
              "\n",
              "    .dataframe tbody tr th {\n",
              "        vertical-align: top;\n",
              "    }\n",
              "\n",
              "    .dataframe thead th {\n",
              "        text-align: right;\n",
              "    }\n",
              "</style>\n",
              "<table border=\"1\" class=\"dataframe\">\n",
              "  <thead>\n",
              "    <tr style=\"text-align: right;\">\n",
              "      <th></th>\n",
              "      <th>Autor</th>\n",
              "      <th>Categoria</th>\n",
              "      <th>Frases</th>\n",
              "    </tr>\n",
              "  </thead>\n",
              "  <tbody>\n",
              "    <tr>\n",
              "      <th>0</th>\n",
              "      <td>Blaise Pascal</td>\n",
              "      <td>Sociedad</td>\n",
              "      <td>Prefiero equivocarme creyendo en un Dios que n...</td>\n",
              "    </tr>\n",
              "    <tr>\n",
              "      <th>1</th>\n",
              "      <td>Jean Jacques Rousseau</td>\n",
              "      <td>Sociedad</td>\n",
              "      <td>El hombre ha nacido libre y por doquiera se en...</td>\n",
              "    </tr>\n",
              "    <tr>\n",
              "      <th>2</th>\n",
              "      <td>Blaise Pascal</td>\n",
              "      <td>Naturaleza</td>\n",
              "      <td>Nuestra naturaleza está en movimiento. El repo...</td>\n",
              "    </tr>\n",
              "    <tr>\n",
              "      <th>3</th>\n",
              "      <td>Mahatma Gandhi</td>\n",
              "      <td>Defectos</td>\n",
              "      <td>Quisiera sufrir todas las humillaciones, todas...</td>\n",
              "    </tr>\n",
              "    <tr>\n",
              "      <th>4</th>\n",
              "      <td>Gilbert Keith Chesterton</td>\n",
              "      <td>Miscelánea</td>\n",
              "      <td>La única simplicidad que vale la pena de conse...</td>\n",
              "    </tr>\n",
              "  </tbody>\n",
              "</table>\n",
              "</div>\n",
              "      <button class=\"colab-df-convert\" onclick=\"convertToInteractive('df-16beda7d-f54f-432a-b1c1-341946f48a05')\"\n",
              "              title=\"Convert this dataframe to an interactive table.\"\n",
              "              style=\"display:none;\">\n",
              "        \n",
              "  <svg xmlns=\"http://www.w3.org/2000/svg\" height=\"24px\"viewBox=\"0 0 24 24\"\n",
              "       width=\"24px\">\n",
              "    <path d=\"M0 0h24v24H0V0z\" fill=\"none\"/>\n",
              "    <path d=\"M18.56 5.44l.94 2.06.94-2.06 2.06-.94-2.06-.94-.94-2.06-.94 2.06-2.06.94zm-11 1L8.5 8.5l.94-2.06 2.06-.94-2.06-.94L8.5 2.5l-.94 2.06-2.06.94zm10 10l.94 2.06.94-2.06 2.06-.94-2.06-.94-.94-2.06-.94 2.06-2.06.94z\"/><path d=\"M17.41 7.96l-1.37-1.37c-.4-.4-.92-.59-1.43-.59-.52 0-1.04.2-1.43.59L10.3 9.45l-7.72 7.72c-.78.78-.78 2.05 0 2.83L4 21.41c.39.39.9.59 1.41.59.51 0 1.02-.2 1.41-.59l7.78-7.78 2.81-2.81c.8-.78.8-2.07 0-2.86zM5.41 20L4 18.59l7.72-7.72 1.47 1.35L5.41 20z\"/>\n",
              "  </svg>\n",
              "      </button>\n",
              "      \n",
              "  <style>\n",
              "    .colab-df-container {\n",
              "      display:flex;\n",
              "      flex-wrap:wrap;\n",
              "      gap: 12px;\n",
              "    }\n",
              "\n",
              "    .colab-df-convert {\n",
              "      background-color: #E8F0FE;\n",
              "      border: none;\n",
              "      border-radius: 50%;\n",
              "      cursor: pointer;\n",
              "      display: none;\n",
              "      fill: #1967D2;\n",
              "      height: 32px;\n",
              "      padding: 0 0 0 0;\n",
              "      width: 32px;\n",
              "    }\n",
              "\n",
              "    .colab-df-convert:hover {\n",
              "      background-color: #E2EBFA;\n",
              "      box-shadow: 0px 1px 2px rgba(60, 64, 67, 0.3), 0px 1px 3px 1px rgba(60, 64, 67, 0.15);\n",
              "      fill: #174EA6;\n",
              "    }\n",
              "\n",
              "    [theme=dark] .colab-df-convert {\n",
              "      background-color: #3B4455;\n",
              "      fill: #D2E3FC;\n",
              "    }\n",
              "\n",
              "    [theme=dark] .colab-df-convert:hover {\n",
              "      background-color: #434B5C;\n",
              "      box-shadow: 0px 1px 3px 1px rgba(0, 0, 0, 0.15);\n",
              "      filter: drop-shadow(0px 1px 2px rgba(0, 0, 0, 0.3));\n",
              "      fill: #FFFFFF;\n",
              "    }\n",
              "  </style>\n",
              "\n",
              "      <script>\n",
              "        const buttonEl =\n",
              "          document.querySelector('#df-16beda7d-f54f-432a-b1c1-341946f48a05 button.colab-df-convert');\n",
              "        buttonEl.style.display =\n",
              "          google.colab.kernel.accessAllowed ? 'block' : 'none';\n",
              "\n",
              "        async function convertToInteractive(key) {\n",
              "          const element = document.querySelector('#df-16beda7d-f54f-432a-b1c1-341946f48a05');\n",
              "          const dataTable =\n",
              "            await google.colab.kernel.invokeFunction('convertToInteractive',\n",
              "                                                     [key], {});\n",
              "          if (!dataTable) return;\n",
              "\n",
              "          const docLinkHtml = 'Like what you see? Visit the ' +\n",
              "            '<a target=\"_blank\" href=https://colab.research.google.com/notebooks/data_table.ipynb>data table notebook</a>'\n",
              "            + ' to learn more about interactive tables.';\n",
              "          element.innerHTML = '';\n",
              "          dataTable['output_type'] = 'display_data';\n",
              "          await google.colab.output.renderOutput(dataTable, element);\n",
              "          const docLink = document.createElement('div');\n",
              "          docLink.innerHTML = docLinkHtml;\n",
              "          element.appendChild(docLink);\n",
              "        }\n",
              "      </script>\n",
              "    </div>\n",
              "  </div>\n",
              "  "
            ]
          },
          "metadata": {},
          "execution_count": 36
        }
      ]
    },
    {
      "cell_type": "markdown",
      "source": [
        "# ESTO ES SOLO UN EJEMPLO DE COMO SE ESCRIBE EN FILAS EN UN CSV"
      ],
      "metadata": {
        "id": "Tt2CcndUP44Y"
      }
    },
    {
      "cell_type": "code",
      "source": [
        " import csv\n",
        "\n",
        " with open('students.csv', 'w', newline='') as file:\n",
        "     writer = csv.writer(file,delimiter=\";\")\n",
        "     \n",
        "     writer.writerow([\"SNo\", \"Name\", \"Subject\"])\n",
        "     writer.writerow([1, \"Ash Ketchum\", \"English\"])\n",
        "     writer.writerow([2, \"Gary Oak\", \"Mathematics\"])\n",
        "     writer.writerow([3, \"Brock Lesner\", \"Physics\"])"
      ],
      "metadata": {
        "id": "yajUVQN9vDPx"
      },
      "execution_count": null,
      "outputs": []
    },
    {
      "cell_type": "code",
      "source": [
        "import pandas as pd\n",
        "df = pd.read_csv('students.csv',delimiter=\";\")\n",
        "#df.columns = [\"Webinar\", \"Fecha\",\"Frase\"]\n",
        "df.head()"
      ],
      "metadata": {
        "colab": {
          "base_uri": "https://localhost:8080/",
          "height": 143
        },
        "id": "5P8DgT8gv0RR",
        "outputId": "1b5fff34-c125-457e-9177-84a8553f6023"
      },
      "execution_count": null,
      "outputs": [
        {
          "output_type": "execute_result",
          "data": {
            "text/plain": [
              "   SNo          Name      Subject\n",
              "0    1   Ash Ketchum      English\n",
              "1    2      Gary Oak  Mathematics\n",
              "2    3  Brock Lesner      Physics"
            ],
            "text/html": [
              "\n",
              "  <div id=\"df-e0ad1169-18d3-4027-82b9-f50ca8b9b6cd\">\n",
              "    <div class=\"colab-df-container\">\n",
              "      <div>\n",
              "<style scoped>\n",
              "    .dataframe tbody tr th:only-of-type {\n",
              "        vertical-align: middle;\n",
              "    }\n",
              "\n",
              "    .dataframe tbody tr th {\n",
              "        vertical-align: top;\n",
              "    }\n",
              "\n",
              "    .dataframe thead th {\n",
              "        text-align: right;\n",
              "    }\n",
              "</style>\n",
              "<table border=\"1\" class=\"dataframe\">\n",
              "  <thead>\n",
              "    <tr style=\"text-align: right;\">\n",
              "      <th></th>\n",
              "      <th>SNo</th>\n",
              "      <th>Name</th>\n",
              "      <th>Subject</th>\n",
              "    </tr>\n",
              "  </thead>\n",
              "  <tbody>\n",
              "    <tr>\n",
              "      <th>0</th>\n",
              "      <td>1</td>\n",
              "      <td>Ash Ketchum</td>\n",
              "      <td>English</td>\n",
              "    </tr>\n",
              "    <tr>\n",
              "      <th>1</th>\n",
              "      <td>2</td>\n",
              "      <td>Gary Oak</td>\n",
              "      <td>Mathematics</td>\n",
              "    </tr>\n",
              "    <tr>\n",
              "      <th>2</th>\n",
              "      <td>3</td>\n",
              "      <td>Brock Lesner</td>\n",
              "      <td>Physics</td>\n",
              "    </tr>\n",
              "  </tbody>\n",
              "</table>\n",
              "</div>\n",
              "      <button class=\"colab-df-convert\" onclick=\"convertToInteractive('df-e0ad1169-18d3-4027-82b9-f50ca8b9b6cd')\"\n",
              "              title=\"Convert this dataframe to an interactive table.\"\n",
              "              style=\"display:none;\">\n",
              "        \n",
              "  <svg xmlns=\"http://www.w3.org/2000/svg\" height=\"24px\"viewBox=\"0 0 24 24\"\n",
              "       width=\"24px\">\n",
              "    <path d=\"M0 0h24v24H0V0z\" fill=\"none\"/>\n",
              "    <path d=\"M18.56 5.44l.94 2.06.94-2.06 2.06-.94-2.06-.94-.94-2.06-.94 2.06-2.06.94zm-11 1L8.5 8.5l.94-2.06 2.06-.94-2.06-.94L8.5 2.5l-.94 2.06-2.06.94zm10 10l.94 2.06.94-2.06 2.06-.94-2.06-.94-.94-2.06-.94 2.06-2.06.94z\"/><path d=\"M17.41 7.96l-1.37-1.37c-.4-.4-.92-.59-1.43-.59-.52 0-1.04.2-1.43.59L10.3 9.45l-7.72 7.72c-.78.78-.78 2.05 0 2.83L4 21.41c.39.39.9.59 1.41.59.51 0 1.02-.2 1.41-.59l7.78-7.78 2.81-2.81c.8-.78.8-2.07 0-2.86zM5.41 20L4 18.59l7.72-7.72 1.47 1.35L5.41 20z\"/>\n",
              "  </svg>\n",
              "      </button>\n",
              "      \n",
              "  <style>\n",
              "    .colab-df-container {\n",
              "      display:flex;\n",
              "      flex-wrap:wrap;\n",
              "      gap: 12px;\n",
              "    }\n",
              "\n",
              "    .colab-df-convert {\n",
              "      background-color: #E8F0FE;\n",
              "      border: none;\n",
              "      border-radius: 50%;\n",
              "      cursor: pointer;\n",
              "      display: none;\n",
              "      fill: #1967D2;\n",
              "      height: 32px;\n",
              "      padding: 0 0 0 0;\n",
              "      width: 32px;\n",
              "    }\n",
              "\n",
              "    .colab-df-convert:hover {\n",
              "      background-color: #E2EBFA;\n",
              "      box-shadow: 0px 1px 2px rgba(60, 64, 67, 0.3), 0px 1px 3px 1px rgba(60, 64, 67, 0.15);\n",
              "      fill: #174EA6;\n",
              "    }\n",
              "\n",
              "    [theme=dark] .colab-df-convert {\n",
              "      background-color: #3B4455;\n",
              "      fill: #D2E3FC;\n",
              "    }\n",
              "\n",
              "    [theme=dark] .colab-df-convert:hover {\n",
              "      background-color: #434B5C;\n",
              "      box-shadow: 0px 1px 3px 1px rgba(0, 0, 0, 0.15);\n",
              "      filter: drop-shadow(0px 1px 2px rgba(0, 0, 0, 0.3));\n",
              "      fill: #FFFFFF;\n",
              "    }\n",
              "  </style>\n",
              "\n",
              "      <script>\n",
              "        const buttonEl =\n",
              "          document.querySelector('#df-e0ad1169-18d3-4027-82b9-f50ca8b9b6cd button.colab-df-convert');\n",
              "        buttonEl.style.display =\n",
              "          google.colab.kernel.accessAllowed ? 'block' : 'none';\n",
              "\n",
              "        async function convertToInteractive(key) {\n",
              "          const element = document.querySelector('#df-e0ad1169-18d3-4027-82b9-f50ca8b9b6cd');\n",
              "          const dataTable =\n",
              "            await google.colab.kernel.invokeFunction('convertToInteractive',\n",
              "                                                     [key], {});\n",
              "          if (!dataTable) return;\n",
              "\n",
              "          const docLinkHtml = 'Like what you see? Visit the ' +\n",
              "            '<a target=\"_blank\" href=https://colab.research.google.com/notebooks/data_table.ipynb>data table notebook</a>'\n",
              "            + ' to learn more about interactive tables.';\n",
              "          element.innerHTML = '';\n",
              "          dataTable['output_type'] = 'display_data';\n",
              "          await google.colab.output.renderOutput(dataTable, element);\n",
              "          const docLink = document.createElement('div');\n",
              "          docLink.innerHTML = docLinkHtml;\n",
              "          element.appendChild(docLink);\n",
              "        }\n",
              "      </script>\n",
              "    </div>\n",
              "  </div>\n",
              "  "
            ]
          },
          "metadata": {},
          "execution_count": 62
        }
      ]
    },
    {
      "cell_type": "markdown",
      "source": [
        "# EJEMPLO 2"
      ],
      "metadata": {
        "id": "vZUHBs1LVngq"
      }
    },
    {
      "cell_type": "markdown",
      "source": [
        "Aqui usamos page.content - \"html.parser\". Sirve igual que arriba, aún no se qué diferencias hay."
      ],
      "metadata": {
        "id": "xhXiECn7Y9PF"
      }
    },
    {
      "cell_type": "code",
      "source": [
        "page=requests.get('https://www.iebschool.com/webinars/') #elegimos la web donde scrapear\n",
        "soup=BeautifulSoup(page.content,\"html.parser\") # le decimos que coja todo el texto HTML de la web de arriba\n",
        "#body_items=soup.find_all(\"div\",class_=\"acc-head-contents\") #extraemos todos los bloques de la web\n",
        "body_items=soup.find_all(\"div\",class_=\"card-header\")\n"
      ],
      "metadata": {
        "id": "FARyZwRnVm9i"
      },
      "execution_count": null,
      "outputs": []
    },
    {
      "cell_type": "code",
      "source": [
        "for body in body_items:\n",
        "  titulo=body.find(\"h3\").text\n",
        "  fecha=body.find(\"p\").text\n",
        "  tipo=body.find(\"li\").text\n",
        "  print([titulo,fecha,tipo])"
      ],
      "metadata": {
        "colab": {
          "base_uri": "https://localhost:8080/"
        },
        "id": "w6wGaauRVqC9",
        "outputId": "63cc9031-e703-4884-b5ea-5d0cbc44fd7a"
      },
      "execution_count": null,
      "outputs": [
        {
          "output_type": "stream",
          "name": "stdout",
          "text": [
            "['Habilidades básicas de un buen líder: comunicación, empatía y capacidad de decisión', '\\n Martes 14 de Febrero de 2023                                            ', 'Management']\n",
            "['Cómo emprender un negocio en el medio rural', '\\n Miércoles 15 de Febrero de 2023                                            ', 'Creación de Empresas']\n",
            "['Guía para crear una estrategia de RSC paso a paso', '\\n Miércoles 22 de Febrero de 2023                                            ', 'Marketing Estratégico']\n",
            "['Diseño de procesos con herramientas BPMN', '\\n Miércoles 01 de Marzo de 2023                                            ', 'Management']\n",
            "['Python para principiantes: ¿por dónde empezar?', '\\n Miércoles 08 de Marzo de 2023                                            ', 'Tecnología']\n",
            "['Evaluación continua como motor del desarrollo y desempeño', '\\n Martes 14 de Marzo de 2023                                            ', 'RRHH 4.0']\n",
            "['Cómo desarrollar un plan de internacionalización', '\\n Miércoles 15 de Marzo de 2023                                            ', 'Negocios Internacionales']\n",
            "['Gestión de la reputación online en el sector turístico', '\\n Miércoles 22 de Marzo de 2023                                            ', 'Marketing Estratégico']\n",
            "['¿Cómo hacer que los equipos funcionen en entornos híbridos?', '\\n Martes 18 de Abril de 2023                                            ', 'RRHH 4.0']\n"
          ]
        }
      ]
    },
    {
      "cell_type": "code",
      "source": [
        "with open('cursos.csv', 'w', newline='',encoding='utf-8') as f:\n",
        "    writer = csv.writer(f, delimiter=',')\n",
        "    writer.writerow([\"Titulo\", \"Fecha\", \"Tipo\"])\n",
        "    for body in body_items:\n",
        "      titulo=body.find(\"h3\").text\n",
        "      fecha=body.find(\"p\").text\n",
        "      tipo=body.find(\"li\").text\n",
        "      writer.writerow([titulo, fecha, tipo])"
      ],
      "metadata": {
        "id": "5nzppVFrVriq"
      },
      "execution_count": null,
      "outputs": []
    },
    {
      "cell_type": "code",
      "source": [
        "import pandas as pd\n",
        "df = pd.read_csv('cursos.csv')\n",
        "#df.columns = [\"Webinar\", \"Fecha\",\"Frase\"]\n",
        "df.head()"
      ],
      "metadata": {
        "colab": {
          "base_uri": "https://localhost:8080/",
          "height": 206
        },
        "id": "8eqL1koKVsmu",
        "outputId": "13342cdb-41fa-4c15-cd7b-bd1b3c3c19d3"
      },
      "execution_count": null,
      "outputs": [
        {
          "output_type": "execute_result",
          "data": {
            "text/plain": [
              "                                              Titulo  \\\n",
              "0  Habilidades básicas de un buen líder: comunica...   \n",
              "1        Cómo emprender un negocio en el medio rural   \n",
              "2  Guía para crear una estrategia de RSC paso a paso   \n",
              "3           Diseño de procesos con herramientas BPMN   \n",
              "4     Python para principiantes: ¿por dónde empezar?   \n",
              "\n",
              "                                               Fecha                   Tipo  \n",
              "0  \\n Martes 14 de Febrero de 2023               ...             Management  \n",
              "1  \\n Miércoles 15 de Febrero de 2023            ...   Creación de Empresas  \n",
              "2  \\n Miércoles 22 de Febrero de 2023            ...  Marketing Estratégico  \n",
              "3  \\n Miércoles 01 de Marzo de 2023              ...             Management  \n",
              "4  \\n Miércoles 08 de Marzo de 2023              ...             Tecnología  "
            ],
            "text/html": [
              "\n",
              "  <div id=\"df-677951a2-1e67-4e14-8111-8231be9d5c08\">\n",
              "    <div class=\"colab-df-container\">\n",
              "      <div>\n",
              "<style scoped>\n",
              "    .dataframe tbody tr th:only-of-type {\n",
              "        vertical-align: middle;\n",
              "    }\n",
              "\n",
              "    .dataframe tbody tr th {\n",
              "        vertical-align: top;\n",
              "    }\n",
              "\n",
              "    .dataframe thead th {\n",
              "        text-align: right;\n",
              "    }\n",
              "</style>\n",
              "<table border=\"1\" class=\"dataframe\">\n",
              "  <thead>\n",
              "    <tr style=\"text-align: right;\">\n",
              "      <th></th>\n",
              "      <th>Titulo</th>\n",
              "      <th>Fecha</th>\n",
              "      <th>Tipo</th>\n",
              "    </tr>\n",
              "  </thead>\n",
              "  <tbody>\n",
              "    <tr>\n",
              "      <th>0</th>\n",
              "      <td>Habilidades básicas de un buen líder: comunica...</td>\n",
              "      <td>\\n Martes 14 de Febrero de 2023               ...</td>\n",
              "      <td>Management</td>\n",
              "    </tr>\n",
              "    <tr>\n",
              "      <th>1</th>\n",
              "      <td>Cómo emprender un negocio en el medio rural</td>\n",
              "      <td>\\n Miércoles 15 de Febrero de 2023            ...</td>\n",
              "      <td>Creación de Empresas</td>\n",
              "    </tr>\n",
              "    <tr>\n",
              "      <th>2</th>\n",
              "      <td>Guía para crear una estrategia de RSC paso a paso</td>\n",
              "      <td>\\n Miércoles 22 de Febrero de 2023            ...</td>\n",
              "      <td>Marketing Estratégico</td>\n",
              "    </tr>\n",
              "    <tr>\n",
              "      <th>3</th>\n",
              "      <td>Diseño de procesos con herramientas BPMN</td>\n",
              "      <td>\\n Miércoles 01 de Marzo de 2023              ...</td>\n",
              "      <td>Management</td>\n",
              "    </tr>\n",
              "    <tr>\n",
              "      <th>4</th>\n",
              "      <td>Python para principiantes: ¿por dónde empezar?</td>\n",
              "      <td>\\n Miércoles 08 de Marzo de 2023              ...</td>\n",
              "      <td>Tecnología</td>\n",
              "    </tr>\n",
              "  </tbody>\n",
              "</table>\n",
              "</div>\n",
              "      <button class=\"colab-df-convert\" onclick=\"convertToInteractive('df-677951a2-1e67-4e14-8111-8231be9d5c08')\"\n",
              "              title=\"Convert this dataframe to an interactive table.\"\n",
              "              style=\"display:none;\">\n",
              "        \n",
              "  <svg xmlns=\"http://www.w3.org/2000/svg\" height=\"24px\"viewBox=\"0 0 24 24\"\n",
              "       width=\"24px\">\n",
              "    <path d=\"M0 0h24v24H0V0z\" fill=\"none\"/>\n",
              "    <path d=\"M18.56 5.44l.94 2.06.94-2.06 2.06-.94-2.06-.94-.94-2.06-.94 2.06-2.06.94zm-11 1L8.5 8.5l.94-2.06 2.06-.94-2.06-.94L8.5 2.5l-.94 2.06-2.06.94zm10 10l.94 2.06.94-2.06 2.06-.94-2.06-.94-.94-2.06-.94 2.06-2.06.94z\"/><path d=\"M17.41 7.96l-1.37-1.37c-.4-.4-.92-.59-1.43-.59-.52 0-1.04.2-1.43.59L10.3 9.45l-7.72 7.72c-.78.78-.78 2.05 0 2.83L4 21.41c.39.39.9.59 1.41.59.51 0 1.02-.2 1.41-.59l7.78-7.78 2.81-2.81c.8-.78.8-2.07 0-2.86zM5.41 20L4 18.59l7.72-7.72 1.47 1.35L5.41 20z\"/>\n",
              "  </svg>\n",
              "      </button>\n",
              "      \n",
              "  <style>\n",
              "    .colab-df-container {\n",
              "      display:flex;\n",
              "      flex-wrap:wrap;\n",
              "      gap: 12px;\n",
              "    }\n",
              "\n",
              "    .colab-df-convert {\n",
              "      background-color: #E8F0FE;\n",
              "      border: none;\n",
              "      border-radius: 50%;\n",
              "      cursor: pointer;\n",
              "      display: none;\n",
              "      fill: #1967D2;\n",
              "      height: 32px;\n",
              "      padding: 0 0 0 0;\n",
              "      width: 32px;\n",
              "    }\n",
              "\n",
              "    .colab-df-convert:hover {\n",
              "      background-color: #E2EBFA;\n",
              "      box-shadow: 0px 1px 2px rgba(60, 64, 67, 0.3), 0px 1px 3px 1px rgba(60, 64, 67, 0.15);\n",
              "      fill: #174EA6;\n",
              "    }\n",
              "\n",
              "    [theme=dark] .colab-df-convert {\n",
              "      background-color: #3B4455;\n",
              "      fill: #D2E3FC;\n",
              "    }\n",
              "\n",
              "    [theme=dark] .colab-df-convert:hover {\n",
              "      background-color: #434B5C;\n",
              "      box-shadow: 0px 1px 3px 1px rgba(0, 0, 0, 0.15);\n",
              "      filter: drop-shadow(0px 1px 2px rgba(0, 0, 0, 0.3));\n",
              "      fill: #FFFFFF;\n",
              "    }\n",
              "  </style>\n",
              "\n",
              "      <script>\n",
              "        const buttonEl =\n",
              "          document.querySelector('#df-677951a2-1e67-4e14-8111-8231be9d5c08 button.colab-df-convert');\n",
              "        buttonEl.style.display =\n",
              "          google.colab.kernel.accessAllowed ? 'block' : 'none';\n",
              "\n",
              "        async function convertToInteractive(key) {\n",
              "          const element = document.querySelector('#df-677951a2-1e67-4e14-8111-8231be9d5c08');\n",
              "          const dataTable =\n",
              "            await google.colab.kernel.invokeFunction('convertToInteractive',\n",
              "                                                     [key], {});\n",
              "          if (!dataTable) return;\n",
              "\n",
              "          const docLinkHtml = 'Like what you see? Visit the ' +\n",
              "            '<a target=\"_blank\" href=https://colab.research.google.com/notebooks/data_table.ipynb>data table notebook</a>'\n",
              "            + ' to learn more about interactive tables.';\n",
              "          element.innerHTML = '';\n",
              "          dataTable['output_type'] = 'display_data';\n",
              "          await google.colab.output.renderOutput(dataTable, element);\n",
              "          const docLink = document.createElement('div');\n",
              "          docLink.innerHTML = docLinkHtml;\n",
              "          element.appendChild(docLink);\n",
              "        }\n",
              "      </script>\n",
              "    </div>\n",
              "  </div>\n",
              "  "
            ]
          },
          "metadata": {},
          "execution_count": 66
        }
      ]
    }
  ]
}